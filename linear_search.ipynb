{
 "cells": [
  {
   "cell_type": "code",
   "execution_count": 2,
   "id": "060734cb",
   "metadata": {},
   "outputs": [
    {
     "name": "stdout",
     "output_type": "stream",
     "text": [
      "target found at index: 7\n"
     ]
    }
   ],
   "source": [
    "def linear_search(list, target):\n",
    "    \n",
    "    for i in range(0, len(list)):\n",
    "        if list[i] == target:\n",
    "            return i\n",
    "    return None\n",
    "\n",
    "#verifying the algorithm\n",
    "def verify(index):\n",
    "    if index is not None:\n",
    "        print(\"target found at index:\", index)\n",
    "    else:\n",
    "        print(\"Target is not in list\")\n",
    "        \n",
    "\n",
    "#list\n",
    "numbers = [1, 2, 3, 4, 5 , 6, 7, 8, 9, 10]\n",
    "\n",
    "result = linear_search(numbers, 8)\n",
    "verify(result)\n"
   ]
  },
  {
   "cell_type": "code",
   "execution_count": null,
   "id": "b434048e",
   "metadata": {},
   "outputs": [],
   "source": []
  }
 ],
 "metadata": {
  "kernelspec": {
   "display_name": "Python 3 (ipykernel)",
   "language": "python",
   "name": "python3"
  },
  "language_info": {
   "codemirror_mode": {
    "name": "ipython",
    "version": 3
   },
   "file_extension": ".py",
   "mimetype": "text/x-python",
   "name": "python",
   "nbconvert_exporter": "python",
   "pygments_lexer": "ipython3",
   "version": "3.9.12"
  }
 },
 "nbformat": 4,
 "nbformat_minor": 5
}
